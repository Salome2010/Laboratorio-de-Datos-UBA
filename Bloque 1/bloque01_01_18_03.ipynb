{
  "cells": [
    {
      "cell_type": "code",
      "source": [
        "import random\n",
        "import matplotlib.pyplot as plt\n",
        "import seaborn as sns"
      ],
      "metadata": {
        "id": "OZeNZVJJNH6u"
      },
      "execution_count": 338,
      "outputs": []
    },
    {
      "cell_type": "markdown",
      "metadata": {
        "id": "DSRCsWHUMxd9"
      },
      "source": [
        "# Unidad 01 - Estadística descriptiva y NumPy\n",
        "\n",
        "En éste Notebook vamos a aprender aspéctos básicos de estadística descriptiva. Si bien Python incluye un [módulo de estadística](https://docs.python.org/3/library/statistics.html) desde la versión 3.4, aprovecharemos para aprender NumPy.\n",
        "\n",
        "NumPy nació de la fusión de dos bibliotecas previas, Numeric y Numarray, que fueron fundamentales para el manejo de arrays multidimensionales en Python. Numeric, creado por Jim Hugunin en 1995, y Numarray, desarrollado a partir de 2001, ayudaron a establecer las bases para el análisis numérico en Python. En 2005, [Travis Olliphant](https://x.com/teoliphant) combinó las mejores características de ambas bibliotecas para crear NumPy, que se lanzó oficialmente en 2006. Desde entonces, NumPy se ha consolidado como una herramienta esencial en la computación científica y el análisis de datos, y sigue evolucionando con mejoras continuas en rendimiento y funcionalidad.\n",
        "\n",
        "Documentación: https://numpy.org/doc/stable/index.html\n",
        "\n",
        "Código fuente: https://github.com/numpy/numpy\n",
        "\n",
        "*Este Notebook asume que ya tenés conocimientos básicos de Python y manejo de Jupyter Notebooks*"
      ]
    },
    {
      "cell_type": "code",
      "source": [
        "import pandas as pd"
      ],
      "metadata": {
        "id": "XtjEyW7wViyF"
      },
      "execution_count": 339,
      "outputs": []
    },
    {
      "cell_type": "markdown",
      "metadata": {
        "id": "PWVmmu00MxeC"
      },
      "source": [
        "## El tipo array\n",
        "\n",
        "Los array de numpy son arreglos ordenados de elementos del mismo tipo. Los vectores (arreglos unidimensionales), son similares a las listas. Ejecutar el siguiente código y observar los resultados."
      ]
    },
    {
      "cell_type": "code",
      "execution_count": 340,
      "metadata": {
        "colab": {
          "base_uri": "https://localhost:8080/"
        },
        "id": "Q4YxQhWLMxeE",
        "outputId": "e757fa5d-f137-469e-edfb-bd353e5cb236"
      },
      "outputs": [
        {
          "output_type": "stream",
          "name": "stdout",
          "text": [
            "[0 3 0 3 4 5 6]\n",
            "[0. 3. 0. 3. 4. 5. 6.]\n"
          ]
        }
      ],
      "source": [
        "import numpy as np\n",
        "\n",
        "v = np.array([0, 3, 0, 3, 4, 5, 6])\n",
        "w = np.array([0., 3., 0., 3., 4., 5., 6.])\n",
        "print(v)\n",
        "print(w)"
      ]
    },
    {
      "cell_type": "code",
      "execution_count": 341,
      "metadata": {
        "colab": {
          "base_uri": "https://localhost:8080/"
        },
        "id": "UDh3KjvyMxeF",
        "outputId": "e66fb632-9a23-40d4-b7b2-769f3dab5022"
      },
      "outputs": [
        {
          "output_type": "stream",
          "name": "stdout",
          "text": [
            "<class 'numpy.ndarray'>\n",
            "<class 'numpy.ndarray'>\n",
            "int64\n",
            "float64\n"
          ]
        }
      ],
      "source": [
        "# El tipo de dato de un array de numpy es ndarray\n",
        "print(type(v))\n",
        "print(type(w))\n",
        "\n",
        "# Para saber el tipo de los elementos contenidos en el array, usamos el atributo dtype\n",
        "print(v.dtype)\n",
        "print(w.dtype)"
      ]
    },
    {
      "cell_type": "markdown",
      "metadata": {
        "id": "N5AgBhbpMxeH"
      },
      "source": [
        "**Para pensar en grupo**\n",
        "\n",
        "1. Explicar los dtypes obtenidos.\n",
        "2. Antes de probar: ¿Qué `dtype` se obtiene si inicializamos el array con `1, 1.3`? ¿por qué?\n",
        "3. Otros atributos importantes son `ndim`, `size`, `shape` y `nbytes`. ¿Qué hacen?"
      ]
    },
    {
      "cell_type": "markdown",
      "metadata": {
        "id": "MCre68PxMxeI"
      },
      "source": [
        "Los array son mas rápidos de recorrer y ocupan menor espacio en memoria que una lista o una tupla. Pero desde el punto de vista práctico, la principal ventaja de usar numpy es que los operadores matemáticos (ej. `+`, `-`, `*`, `/`) aplican elemento a elemento y por lo tanto no requieren ciclos explícitos. Ejecutar los siguientes comandos e interpretar los resultados."
      ]
    },
    {
      "cell_type": "code",
      "execution_count": 342,
      "metadata": {
        "colab": {
          "base_uri": "https://localhost:8080/"
        },
        "id": "OUTzz6-6MxeJ",
        "outputId": "6d57c7a6-82b5-4ce7-9232-b970ee1ec90e"
      },
      "outputs": [
        {
          "output_type": "stream",
          "name": "stdout",
          "text": [
            "x =  [1. 2. 3.]\n",
            "y =  [4 5 6]\n",
            "x + 2 =  [3. 4. 5.]\n",
            "y - 4 =  [0 1 2]\n",
            "2 * x =  [2. 4. 6.]\n",
            "y / 5 =  [1.33333333 1.66666667 2.        ]\n",
            "x + y =  [5. 7. 9.]\n",
            "x - y =  [-3. -3. -3.]\n",
            "x * y =  [ 4. 10. 18.]\n",
            "x / y =  [0.25 0.4  0.5 ]\n",
            "1\n",
            "3\n",
            "(2, 3)\n"
          ]
        }
      ],
      "source": [
        "x = np.array([1.0, 2.0, 3.0])\n",
        "y = np.array([4, 5, 6])\n",
        "print(\"x = \", x)\n",
        "print(\"y = \", y)\n",
        "\n",
        "# Un array y un escalar\n",
        "a = x + 2\n",
        "print(\"x + 2 = \", a)\n",
        "b = y - 4\n",
        "print(\"y - 4 = \", b)\n",
        "c = 2 * x\n",
        "print(\"2 * x = \", c)\n",
        "d = y / 3\n",
        "print(\"y / 5 = \", d)\n",
        "\n",
        "# Un array y un array\n",
        "print(\"x + y = \", x + y)\n",
        "print(\"x - y = \", x - y)\n",
        "print(\"x * y = \", x * y)\n",
        "print(\"x / y = \", x / y)\n",
        "print(d.ndim) # dimencion de d\n",
        "print(d.size)\n",
        "m = np.array([[1,2,3],[1,2,3]]) # dimencion 3x2\n",
        "print(m.shape)\n",
        "\n",
        "\n"
      ]
    },
    {
      "cell_type": "markdown",
      "metadata": {
        "id": "oAW42VqfMxeK"
      },
      "source": [
        "*Una notación muy cómoda incluida en Python 3.8 son los debug f-strings, que permite hacer cosas como la siguiente: `print(f\"{x + y = }\")`. Probala y usala si te resulta útil.*"
      ]
    },
    {
      "cell_type": "code",
      "source": [
        "print(f\"{x + y = }\")"
      ],
      "metadata": {
        "colab": {
          "base_uri": "https://localhost:8080/"
        },
        "id": "WVQP_4LI3XnJ",
        "outputId": "198f7e40-2874-40ee-8523-bdd4653ab893"
      },
      "execution_count": 343,
      "outputs": [
        {
          "output_type": "stream",
          "name": "stdout",
          "text": [
            "x + y = array([5., 7., 9.])\n"
          ]
        }
      ]
    },
    {
      "cell_type": "markdown",
      "metadata": {
        "id": "_y-R_s7JMxeL"
      },
      "source": [
        "**Para pensar en grupo**\n",
        "1. Explicar los dtypes obtenidos en cada caso\n",
        "2. Aplicar otros operadores (`**`, `%`, `>=`, `>`, `<=`, `<`, `!=`, `==`)\n",
        "3. Antes de probar: ¿qué pasa si utilizo dos array de distinto `shape`?"
      ]
    },
    {
      "cell_type": "markdown",
      "metadata": {
        "id": "HIuCqP4UMxeN"
      },
      "source": [
        "**Para buscar**: Una forma usual para incializar un array es crear uno lleno de 0 o de 1. Buscar con que funciones puede hacerse. ¿Qué parametros toma?"
      ]
    },
    {
      "cell_type": "code",
      "source": [
        "def array0(x:int):\n",
        "  f = []\n",
        "  for i in range(x):\n",
        "    f.append(0)\n",
        "  return f\n",
        "\n",
        "array0(5) # x parametro de tipo int"
      ],
      "metadata": {
        "colab": {
          "base_uri": "https://localhost:8080/"
        },
        "id": "lkn-LWrB60Hi",
        "outputId": "9e8f25ec-8882-4127-9e6a-8953e3f4b2a7"
      },
      "execution_count": 344,
      "outputs": [
        {
          "output_type": "execute_result",
          "data": {
            "text/plain": [
              "[0, 0, 0, 0, 0]"
            ]
          },
          "metadata": {},
          "execution_count": 344
        }
      ]
    },
    {
      "cell_type": "code",
      "source": [
        "print(a.dtype)\n",
        "print(b.dtype)\n",
        "print(c.dtype)\n",
        "print(d.dtype)\n"
      ],
      "metadata": {
        "colab": {
          "base_uri": "https://localhost:8080/"
        },
        "id": "mKfdfkRm3zMz",
        "outputId": "3dd9ec97-2f6d-49f8-e600-8391f2786e4c"
      },
      "execution_count": 345,
      "outputs": [
        {
          "output_type": "stream",
          "name": "stdout",
          "text": [
            "float64\n",
            "int64\n",
            "float64\n",
            "float64\n"
          ]
        }
      ]
    },
    {
      "cell_type": "markdown",
      "metadata": {
        "id": "WwtGcpVMMxeN"
      },
      "source": [
        "## Accediendo a los elementos de un array\n",
        "\n",
        "Tal como ocurre con una lista o una tupla, puede obtenerse un elemento de un array utilizando los corchetes `[]`. Algunas reglas básicas:\n",
        "1. El primer elemento es el `0` (siguiendo el estandar de C y la sugerencia en el [escrito clásico de Dijkstra](https://www.cs.utexas.edu/users/EWD/transcriptions/EWD08xx/EWD831.html)). Ej. `w[0]`\n",
        "2. y el segundo es el `1`, el tercero es el `2` y así sucesivamente.\n",
        "3. Puede también obtener el último elemento con el `-1` Ej. `w[-1]`\n",
        "4. y el anteúltimo (`-2`), antepenúltimo (`-3`) y así sucesivamente.\n",
        "5. Utilizando los dos puntos `:` puede obtenerse un `slice`: `a:b` signfica tomar todos los elementos desde el `a` (incluido) hasta el `b` (excluido). Ej. `w[1:7]`\n",
        "6. y puede agregarse también el paso: `a:b:c` signfica tomar todos los elementos desde el `a` (incluido) hasta el `b` (excluido) de haciendo pasos de largo `c` Ej. `w[1:7:2]`\n",
        "\n",
        "**Para hacer y pensar**\n",
        "1. Probar los ejemplos. Modificarlos para entender los parámetros.\n",
        "2. ¿Qué pasa si los indices requeridos no están en el rango del array?\n",
        "3. `a`, `b`, `c` pueden estar ausentes. ¿Qué pasa en cada caso?\n",
        "4. ¿Cuál es la diferencia entre `w[1]` y `w[1:2]`?\n",
        "5. ¿Cómo podes usar lo aprendido para invertir el orden de los elemento en un array (que el primero esté ultimo y el último primero)?\n",
        "6. ¿Cómo podes usar lo aprendido para obtener todos los elementos en posiciones pares? ¿Cómo puede usar lo aprendido para obtener todos los elementos en posiciones impares?\n",
        "7. La misma sintaxis sirve para asignar nuevos valores. Hace la prueba"
      ]
    },
    {
      "cell_type": "code",
      "source": [
        "f = np.array([[3,4],[4,6],[2,4],[2,5]])\n",
        "print(f)\n",
        "print(f[0]>=f[1])\n",
        "print(f.shape)\n",
        "print(f[-1][-1])\n",
        "print(f[-1][-2])\n",
        "print(f[0:100])\n",
        "print(f[1], f[1:2])\n",
        "# falta lo de hacer y pensar"
      ],
      "metadata": {
        "colab": {
          "base_uri": "https://localhost:8080/"
        },
        "id": "OTIOYV_U5ayA",
        "outputId": "ae10d5af-68ce-45df-f2c1-5547563bfcc5"
      },
      "execution_count": 346,
      "outputs": [
        {
          "output_type": "stream",
          "name": "stdout",
          "text": [
            "[[3 4]\n",
            " [4 6]\n",
            " [2 4]\n",
            " [2 5]]\n",
            "[False False]\n",
            "(4, 2)\n",
            "5\n",
            "2\n",
            "[[3 4]\n",
            " [4 6]\n",
            " [2 4]\n",
            " [2 5]]\n",
            "[4 6] [[4 6]]\n"
          ]
        }
      ]
    },
    {
      "cell_type": "code",
      "source": [
        "def invertir(lista):\n",
        "  return lista[::-1]\n",
        "\n",
        "def invertir2(lista:[int]):\n",
        "  lista2 = []\n",
        "  for i in range(len(lista)):\n",
        "    lista2.append(lista[len(lista) -i - 1])\n",
        "  return lista2\n",
        "\n",
        "def pares(lista:[int]):\n",
        "  par = []\n",
        "  for i in range(len(lista)):\n",
        "    if i%2 == 0:\n",
        "      par.append(lista[i])\n",
        "  return par\n",
        "\n",
        "def impares(lista:[int]):\n",
        "  impar = []\n",
        "  for i in range(len(lista)):\n",
        "    if i%2 != 0:\n",
        "      impar.append(lista[i])\n",
        "  return impar\n",
        "\n",
        "print(invertir2([1,2,3,4,5]))\n",
        "print(pares([1,2,3,4,5]))\n",
        "print(impares([1,2,3,4,5]))"
      ],
      "metadata": {
        "colab": {
          "base_uri": "https://localhost:8080/"
        },
        "id": "qxABpTrj8nsB",
        "outputId": "52fb5771-e9d8-496e-d40e-bd645f28f55f"
      },
      "execution_count": 347,
      "outputs": [
        {
          "output_type": "stream",
          "name": "stdout",
          "text": [
            "[5, 4, 3, 2, 1]\n",
            "[1, 3, 5]\n",
            "[2, 4]\n"
          ]
        }
      ]
    },
    {
      "cell_type": "markdown",
      "metadata": {
        "id": "nVMZB01XMxeO"
      },
      "source": [
        "## Funciones\n",
        "\n",
        "Asi como los operadores aplican sobre cada elemento del array, hay muchas operaciones como `cos`, `sin`, `tan`, `sqrt` que tambien lo hacen. Lo mismo pasa con `round`, `ceil`, `floor`. Otras cómo `logical_and`, `logical_or`, `hypot` operan sobre mas de un array y devuelven otró. Finalmente, otras como `sum`, `all`, `any` toman un array y devuelven un escalar.\n",
        "\n",
        "1. Busca estas funciones en la documentación de NumPy y probalas.\n",
        "2. Muchas (¿todas?) de estas funciones tienen un parámetro llamado `out`. ¿Para qué sirve?\n",
        "3. ¿Qué diferencia hay entre la función `max` y `argmax`?"
      ]
    },
    {
      "cell_type": "code",
      "source": [
        "x = 4.2\n",
        "y = np.array([[2,3,4],[3,5,2]])\n",
        "print(np.cos(x))\n",
        "print(np.sin(x))\n",
        "print(np.tan(x))\n",
        "print(np.sqrt(x))\n",
        "print(np.round(x))\n",
        "print(np.ceil(x))\n",
        "print(np.floor(x))\n",
        "print(np.hypot(y,x))\n",
        "print(np.sum(y))\n",
        "print(np.all(y))\n",
        "print(np.any(y))\n",
        "print(np.max(y))\n",
        "print(np.argmax(y))"
      ],
      "metadata": {
        "colab": {
          "base_uri": "https://localhost:8080/"
        },
        "id": "2XuPOP498I4e",
        "outputId": "da6984f7-b379-441a-e5d1-94c8829131c9"
      },
      "execution_count": 348,
      "outputs": [
        {
          "output_type": "stream",
          "name": "stdout",
          "text": [
            "-0.4902608213406994\n",
            "-0.8715757724135882\n",
            "1.7777797745088417\n",
            "2.04939015319192\n",
            "4.0\n",
            "5.0\n",
            "4.0\n",
            "[[4.65188134 5.16139516 5.8       ]\n",
            " [5.16139516 6.52993109 4.65188134]]\n",
            "19\n",
            "True\n",
            "True\n",
            "5\n",
            "4\n"
          ]
        }
      ]
    },
    {
      "cell_type": "markdown",
      "metadata": {
        "id": "dflrtOHsMxeO"
      },
      "source": [
        "También podes escribir tus propias funciones que tomen arrays"
      ]
    },
    {
      "cell_type": "code",
      "execution_count": 349,
      "metadata": {
        "id": "BVCFaMy_MxeO"
      },
      "outputs": [],
      "source": [
        "def norma_euclidea(vec):\n",
        "    \"\"\"Calcula la normal euclidea de un vector.\"\"\"\n",
        "    return np.sqrt(np.sum(vec * vec))"
      ]
    },
    {
      "cell_type": "markdown",
      "metadata": {
        "id": "p-hTuAPRMxeQ"
      },
      "source": [
        "Escribi las siguientes funciones\n",
        "1. devuelva la cantidad de elementos positivos dentro de un array.\n",
        "2. devuelva la cantidad de elementos x, tal que a <= x <= b (con a y b parametros de la función). Nota: cuando haces operaciones múltiples la precedencia de los operadores es importante. Fijate como son las de Python.\n",
        "3. busque el maximo del array y lo reemplace por 0."
      ]
    },
    {
      "cell_type": "code",
      "source": [
        "#1)\n",
        "x= np.array([1,9,3,5,-1])\n",
        "def positivos(y):\n",
        "  suma = 0\n",
        "  for i in range(len(y)):\n",
        "    if y[i]>0:\n",
        "      suma+=1\n",
        "  return suma\n",
        "\n",
        "print(positivos(x))"
      ],
      "metadata": {
        "colab": {
          "base_uri": "https://localhost:8080/"
        },
        "id": "3BXfBe6--m3L",
        "outputId": "d1ddc310-e0db-4daf-9861-c94ab8acedbc"
      },
      "execution_count": 350,
      "outputs": [
        {
          "output_type": "stream",
          "name": "stdout",
          "text": [
            "4\n"
          ]
        }
      ]
    },
    {
      "cell_type": "code",
      "source": [
        "#2)\n",
        "def cantidadElementos(a:int, b:int, lista:[int]):\n",
        "  cantidad = 0\n",
        "  for i in range(len(lista)):\n",
        "    if lista[i]>=a and lista[i]<=b:\n",
        "      cantidad+=1\n",
        "  return cantidad\n",
        "\n",
        "print(cantidadElementos(1,5,[0,1,2,4,6]))\n",
        "\n"
      ],
      "metadata": {
        "colab": {
          "base_uri": "https://localhost:8080/"
        },
        "id": "_8d3wNz4-l7D",
        "outputId": "1300d916-af9d-442f-9b04-a2498ce4192d"
      },
      "execution_count": 351,
      "outputs": [
        {
          "output_type": "stream",
          "name": "stdout",
          "text": [
            "3\n"
          ]
        }
      ]
    },
    {
      "cell_type": "code",
      "source": [
        "#3)\n",
        "x = [1,2,10,5,7,-1,9]\n",
        "def maximo(y):\n",
        "  maximo = y[0]\n",
        "  for i in range(len(y)):\n",
        "    if y[i]> maximo:\n",
        "      maximo = y[i]\n",
        "  for j in range(len(y)):\n",
        "    if y[j]==maximo:\n",
        "      y[j]=0\n",
        "  return y\n",
        "\n",
        "\n",
        "print(maximo(x))\n"
      ],
      "metadata": {
        "colab": {
          "base_uri": "https://localhost:8080/"
        },
        "id": "F--OuXgiAiGD",
        "outputId": "9025cd8b-29b8-4c85-838b-965446932065"
      },
      "execution_count": 352,
      "outputs": [
        {
          "output_type": "stream",
          "name": "stdout",
          "text": [
            "[1, 2, 0, 5, 7, -1, 9]\n"
          ]
        }
      ]
    },
    {
      "cell_type": "markdown",
      "metadata": {
        "id": "M1aKnpoyMxeQ"
      },
      "source": [
        "## Estadística descriptiva\n",
        "\n",
        "Cuando un conjunto de datos empieza a ser mas grande es conveniente definir algunos observables para resumirlos. Bien usados, pueden utilizarse para buscar tendencias, comparar conjuntos de datos, identificar anomalías.\n",
        "\n",
        "- La **tendencia central** sobre informa sobre los centros de los datos. Los observables mas comunes incluyen la **media** y la **mediana**.\n",
        "- La **variabilidad**  informa sobre la dispersión de los datos. Los observables mas comunes incluyen la **desviación estándar** y el **rango intercuartil**.\n",
        "- La correlación o variabilidad conjunta le informa sobre la relación entre un par de variables en un conjunto de datos. Las medidas útiles incluyen la **covarianza** y el **coeficiente de correlación**.\n",
        "\n",
        "**Para hacer usando sólo operadores matemáticos y `np.sum`**\n",
        "1. Busca la definición matemática y escribí una función para calcular la media.\n",
        "2. Busca la definición matemática y escribí una función para calcular la desviación estandar.\n",
        "\n",
        "En Jupyter Notebook se puede escribir formulas en $\\LaTeX$ poniendo el contenido deseado entre `$`. Esto permite crear Jupyter Notebooks que no solo sean ejecutables sino también que se lean como un libro. Si sabes $\\LaTeX$ (o querés aprender), pone la formula de la media y la desviacion estandar."
      ]
    },
    {
      "cell_type": "markdown",
      "source": [],
      "metadata": {
        "id": "kngcTh2PFLO7"
      }
    },
    {
      "cell_type": "code",
      "source": [
        "#media\n",
        "x = [1,2,3,4,5,6,7,8,9,10]\n",
        "def media(y):\n",
        "  suma = 0\n",
        "  cantidad = 0\n",
        "  for i in range(len(y)):\n",
        "    suma+=y[i]\n",
        "    cantidad+=1\n",
        "  return suma/cantidad\n",
        "\n",
        "#desv. estandar\n",
        "def desv(y):\n",
        "  sumatoria = 0\n",
        "  for i in range(len(y)):\n",
        "    m = (y[i] - media(y))**2\n",
        "    sumatoria+=m\n",
        "  return (sumatoria/len(y))**0.5\n",
        "\n",
        "print(media(x))\n",
        "print(np.mean(x))\n",
        "print(np.std(x))\n",
        "print(desv(x))\n",
        "print(np.ptp(x))"
      ],
      "metadata": {
        "colab": {
          "base_uri": "https://localhost:8080/"
        },
        "id": "DRHwX_liDR5T",
        "outputId": "aa836ab2-358d-40c3-be6c-d89f43fbbd88"
      },
      "execution_count": 353,
      "outputs": [
        {
          "output_type": "stream",
          "name": "stdout",
          "text": [
            "5.5\n",
            "5.5\n",
            "2.8722813232690143\n",
            "2.8722813232690143\n",
            "9\n"
          ]
        }
      ]
    },
    {
      "cell_type": "code",
      "source": [],
      "metadata": {
        "id": "5I52sw6CG6b4"
      },
      "execution_count": 353,
      "outputs": []
    },
    {
      "cell_type": "markdown",
      "metadata": {
        "id": "_HBLeZYGMxeQ"
      },
      "source": [
        "**Para hacer**\n",
        "1. Armá un array con la altura de las 10 personas que tengas a tu alrededor.\n",
        "2. Aplicá la función `np.ptp`. ¿Qué hace?\n",
        "3. Calculá usando funciones de numpy la media y la desviación estandar.\n",
        "4. Calculá usando funciones de numpy la mediana y rango intercuartil.\n",
        "5. En algunos casos, hay datos faltantes o incorrectos que se anotan como Not a Number (`np.nan`). Agrega ese dato al array y fijate que pasa con los resultados de los puntos 2 a 4. ¿Cómo podes solucionarlo?"
      ]
    },
    {
      "cell_type": "markdown",
      "source": [
        "El 25th percentile es llamado first quartile (primer cuantil)\n",
        "\n",
        "El 50th percentile es llamado the median (la mediana)\n",
        "\n",
        "El 75th percentile es llamado third quartile (tercer cuantil)"
      ],
      "metadata": {
        "id": "VRpESsl6ITTx"
      }
    },
    {
      "cell_type": "markdown",
      "source": [
        "El 40th percentile tendrá el 40% de los 10 números restantes por debajo (40% de 10 es 4) y 60% de los números encima de él (60% de 10 es 6).\n"
      ],
      "metadata": {
        "id": "OgwIBprMKMNC"
      }
    },
    {
      "cell_type": "code",
      "source": [
        "d = [1.50, 1.60, 1.67, 1.70, 1.80, 1.56, 1.78, 1.60, 1.66, 1.63]\n",
        "#mediana\n",
        "mediana = np.median(d)\n",
        "d2 = np.array(d)\n",
        "primer_cuantil = np.percentile(d2, 25)\n",
        "tercer_cuantil = np.percentile(d2, 75)\n",
        "\n",
        "print(primer_cuantil)\n",
        "print(tercer_cuantil)\n",
        "print(\"Rango Intercuantil: \", tercer_cuantil - primer_cuantil)\n",
        "print(mediana)\n",
        "print(np.ptp(d2))\n"
      ],
      "metadata": {
        "colab": {
          "base_uri": "https://localhost:8080/"
        },
        "id": "C_w2vVJKHD4f",
        "outputId": "b37849d8-c725-4468-e423-54e5326ff73e"
      },
      "execution_count": 354,
      "outputs": [
        {
          "output_type": "stream",
          "name": "stdout",
          "text": [
            "1.6\n",
            "1.6925\n",
            "Rango Intercuantil:  0.0924999999999998\n",
            "1.645\n",
            "0.30000000000000004\n"
          ]
        }
      ]
    },
    {
      "cell_type": "markdown",
      "metadata": {
        "id": "mFGXkd5OMxeR"
      },
      "source": [
        "## Azar (o casi)\n",
        "\n",
        "Con la computadora es muy facil generar datos [pseudoaleatorios](https://en.wikipedia.org/wiki/Pseudorandom_number_generator) y asi aprender estadísitica."
      ]
    },
    {
      "cell_type": "code",
      "source": [
        "rng = np.random.default_rng()  # creamos un Random Number Generator (RNG)"
      ],
      "metadata": {
        "id": "ybPZhUsOwi5g"
      },
      "execution_count": 355,
      "outputs": []
    },
    {
      "cell_type": "markdown",
      "metadata": {
        "id": "pFUBUPgDMxeR"
      },
      "source": [
        "**Para hacer**\n",
        "\n",
        "1. ¿Qué hace el parámetro `size`?\n",
        "2. Buscar qué hace el parámetro `replace` en la función `choice` y probar.\n",
        "3. ¿Qué`pasa si lo corren otra vez? ¿Dá igual?\n",
        "4. ¿Salió mitad de las veces cara y mitad de las veces ceca?\n",
        "5. Simular 10 lanzamientos de una moneda y calcular el promedio de veces que sale cara. Repetir para $n = 1000$ y $n = 100.000$."
      ]
    },
    {
      "cell_type": "code",
      "execution_count": 356,
      "metadata": {
        "id": "Rnj3DrxWMxeR",
        "colab": {
          "base_uri": "https://localhost:8080/"
        },
        "outputId": "2d0c52b4-3ec3-4dec-feb3-26bdc8ba142a"
      },
      "outputs": [
        {
          "output_type": "stream",
          "name": "stdout",
          "text": [
            "['cara' 'cara' 'cara' 'cara' 'cara' 'ceca' 'ceca' 'ceca' 'cara' 'ceca']\n",
            "['cara' 'cara' 'cara' 'cara' 'cara' 'CECA' 'CECA' 'CECA' 'cara' 'CECA']\n",
            "0.6\n"
          ]
        }
      ],
      "source": [
        "from os import replace\n",
        "# Con la función choice podemos elegir entre un grupo finito de opciones\n",
        "x = np.array([\"cara\", \"ceca\"])\n",
        "tiros = rng.choice(x, size=10)\n",
        "\n",
        "def remplzar(y):\n",
        "  for i in range(len(y)):\n",
        "    m = y[i].replace('ceca','CECA')\n",
        "    y[i] = m\n",
        "  return y\n",
        "\n",
        "def promedio(y):  # a mas tiros baja el promedio\n",
        "  suma = 0\n",
        "  for i in range(len(y)):\n",
        "    if y[i] == 'cara':\n",
        "      suma+=1\n",
        "  return suma/len(y)\n",
        "\n",
        "print(tiros)\n",
        "print(remplzar(tiros))\n",
        "print(promedio(tiros))\n",
        "#print(np.size(rng.choice(x, size=10)))"
      ]
    },
    {
      "cell_type": "code",
      "execution_count": 357,
      "metadata": {
        "colab": {
          "base_uri": "https://localhost:8080/"
        },
        "id": "I6mb3yGfMxeR",
        "outputId": "5dfbdd95-cb67-4bb3-f495-7c1ff3ee2279"
      },
      "outputs": [
        {
          "output_type": "execute_result",
          "data": {
            "text/plain": [
              "array([ 0.20503315, -1.14568495, -0.5555075 , -0.14716211, -0.94523861,\n",
              "        1.31209151,  1.22381986, -0.2853884 ,  1.44625842, -1.13215596])"
            ]
          },
          "metadata": {},
          "execution_count": 357
        }
      ],
      "source": [
        "# Con la función normal podemos obtener numeros al azar de una distribución normal.\n",
        "rng.normal(0, 1, size=10)"
      ]
    },
    {
      "cell_type": "markdown",
      "source": [
        "**Para hacer y pensar en grupo**\n",
        "\n",
        "Estás jugando a los dados. Se tiran dos, y se suman sus valores. Calculá con simulaciones la frecuencia con la que aparece cada valor. Compará con lo que esperás."
      ],
      "metadata": {
        "id": "NwFTr2cSZxlb"
      }
    },
    {
      "cell_type": "markdown",
      "metadata": {
        "id": "RXFPvo9QMxeR"
      },
      "source": [
        "**Para hacer y pensar en grupo**\n",
        "\n",
        "1. ¿Qué son los dos primero parámetros?\n",
        "2. Simular 10 valores y calcular el promedio, la desviación estandar, la media y el rango intercuartil. Repetir para $n = 1000$ y $n = 100.000$.\n",
        "3. Buscar que es el **error estandar de la media** y calcularlo. Luego elaborar un programa para entender con simulaciones"
      ]
    },
    {
      "cell_type": "code",
      "source": [
        "# al tirar dos dados la suma de sus valores van del rango de [2,12]. Hago un array con la cantidad de combinaciones posible para que salgan esos valores.\n",
        "# eje: para que la suma de 2, entinces tengo el (1,1) es la unica opcion, pero para que de 3 tengo (1,2) y (2,1)\n",
        "\"\"\"3: (1, 2), (2, 1)\n",
        "4: (1, 3), (2, 2), (3, 1)\n",
        "5: (1, 4), (2, 3), (3, 2), (4, 1)\n",
        "6: (1, 5), (2, 4), (3, 3), (4, 2), (5, 1)\n",
        "7: (1, 6), (2, 5), (3, 4), (4, 3), (5, 2), (6, 1)\n",
        "8: (2, 6), (3, 5), (4, 4), (5, 3), (6, 2)\n",
        "9: (3, 6), (4, 5), (5, 4), (6, 3)\n",
        "10: (4, 6), (5, 5), (6, 4)\n",
        "11: (5, 6), (6, 5)\n",
        "12: (6, 6) \"\"\"\n",
        "\n",
        "# Función para realizar una tirada de dos dados y devolver su suma\n",
        "def tirar_dados(tiros, seed=42):\n",
        "    np.random.seed(seed)  # Fijar semilla una sola vez\n",
        "    random.seed(seed)  # También fijar la semilla para random\n",
        "    suma_tiros = []\n",
        "    for _ in range(tiros):\n",
        "        dado1 = random.randint(1, 6)\n",
        "        dado2 = random.randint(1, 6)\n",
        "        suma_tiros.append(dado1 + dado2)\n",
        "    return suma_tiros\n",
        "\n",
        "#print(tirar_dados(100))\n",
        "# al realizar mas tiros de dos dados independientes , entonces la frecuencia de la suma se aproxima a una distribucion normal\n",
        "\n",
        "#rango intercuartil\n",
        "def Q1YQ3(tiros):\n",
        "    datos = tirar_dados(tiros)\n",
        "    primer_cuartil = np.percentile(datos, 25)\n",
        "    tercer_cuartil = np.percentile(datos, 75)\n",
        "    return primer_cuartil, tercer_cuartil\n",
        "\n",
        "# Calcular valores\n",
        "q1, q3 = Q1YQ3(100000)\n",
        "promedio = np.mean(tirar_dados(100000))\n",
        "std = np.std(tirar_dados(100000))\n",
        "\n",
        "# figura\n",
        "plt.figure(figsize=(10, 5))\n",
        "sns.histplot(tirar_dados(100000), bins=range(2, 14), discrete=True, kde=False, color='blue', edgecolor='black')\n",
        "\n",
        "plt.axvline(q1, color='green', linestyle='--', label='Q1 (25%)')\n",
        "plt.axvline(q3, color='purple', linestyle='--', label='Q3 (75%)')\n",
        "plt.axvline(promedio, color='red', linestyle='-', label='Media')\n",
        "\n",
        "plt.xlabel('Suma de los dados')\n",
        "plt.ylabel('Frecuencia')\n",
        "plt.title('Frecuencia de la suma al tirar dos dados')\n",
        "plt.xticks(range(2, 13))\n",
        "plt.legend()\n",
        "plt.grid(axis='y', linestyle='--', alpha=0.7)\n",
        "plt.show()\n",
        "\n",
        "print(promedio) # veo q fuincione el seed cada ver que corro"
      ],
      "metadata": {
        "colab": {
          "base_uri": "https://localhost:8080/",
          "height": 504
        },
        "id": "KyKhPTPQEiXo",
        "outputId": "be4e69e6-9be2-4036-aff0-47bfd5141212"
      },
      "execution_count": 358,
      "outputs": [
        {
          "output_type": "display_data",
          "data": {
            "text/plain": [
              "<Figure size 1000x500 with 1 Axes>"
            ],
            "image/png": "[encoded data removed]"
          },
          "metadata": {}
        },
        {
          "output_type": "stream",
          "name": "stdout",
          "text": [
            "7.00095\n"
          ]
        }
      ]
    },
    {
      "cell_type": "markdown",
      "source": [
        "**Azar reproducible**\n",
        "\n",
        "En algunas ocasiones queremos repetir una o más realizaciones de una tirada al azar. Buscando sobre *seed* en la documentación de NumPy, logren un programa que repita la misma secuencia de realizaciones."
      ],
      "metadata": {
        "id": "UAWqF5_hs6zF"
      }
    },
    {
      "cell_type": "code",
      "source": [
        "\"\"\"El seed=42 en np.random.seed(seed) sirve para que los números aleatorios generados sean siempre los mismos cada vez que ejecutes el código.\n",
        "\n",
        "Sin una semilla, cada vez que corras el programa obtendrás una secuencia diferente de tiradas de dados. Con la semilla fija (42 en este caso, pero puede ser cualquier número), las tiradas serán idénticas en cada ejecución.\"\"\""
      ],
      "metadata": {
        "colab": {
          "base_uri": "https://localhost:8080/",
          "height": 70
        },
        "id": "1k5SvlzyRg5p",
        "outputId": "70ef3485-d53b-4cca-e295-797f374a9f66"
      },
      "execution_count": 359,
      "outputs": [
        {
          "output_type": "execute_result",
          "data": {
            "text/plain": [
              "'El seed=42 en np.random.seed(seed) sirve para que los números aleatorios generados sean siempre los mismos cada vez que ejecutes el código.\\n\\nSin una semilla, cada vez que corras el programa obtendrás una secuencia diferente de tiradas de dados. Con la semilla fija (42 en este caso, pero puede ser cualquier número), las tiradas serán idénticas en cada ejecución.'"
            ],
            "application/vnd.google.colaboratory.intrinsic+json": {
              "type": "string"
            }
          },
          "metadata": {},
          "execution_count": 359
        }
      ]
    },
    {
      "cell_type": "markdown",
      "metadata": {
        "id": "kBMBlGefMxeS"
      },
      "source": [
        "## Arrays multidimensionales\n",
        "\n",
        "Además de vectores, utilizando numpy pueden definirse arreglos multidimensionales a partir de listas anidadas.\n",
        "\n",
        "Veamos algunas **matrices** (arreglos de dos dimensiones):"
      ]
    },
    {
      "cell_type": "code",
      "execution_count": 366,
      "metadata": {
        "colab": {
          "base_uri": "https://localhost:8080/"
        },
        "id": "Zg_UjB_9MxeS",
        "outputId": "95ebaa84-f734-4234-f9e0-cb29ecd682b6"
      },
      "outputs": [
        {
          "output_type": "execute_result",
          "data": {
            "text/plain": [
              "array([[ 4,  2,  2],\n",
              "       [-1,  1,  1],\n",
              "       [-2,  2,  5]])"
            ]
          },
          "metadata": {},
          "execution_count": 366
        }
      ],
      "source": [
        "A = np.array([[3, 2, 2], [-1, 0, 1], [-2, 2, 4]])\n",
        "B = np.array([[1, 0, 0], [0, 1, 0], [0, 0, 1]])\n",
        "C = np.array([[0, 1, -1], [5, -2, 1]])\n",
        "A + B"
      ]
    },
    {
      "cell_type": "code",
      "source": [
        "A[0,1] , A[1,0]\n",
        "# columna 0 elemento en posicion 1 y columna 1 elemento en posicion 0\n",
        "print(A@B) # PRODUCTO MATRCIAL"
      ],
      "metadata": {
        "colab": {
          "base_uri": "https://localhost:8080/"
        },
        "id": "hmIX4tCQWfaz",
        "outputId": "0371437d-7354-4842-804b-e548e403a3d0"
      },
      "execution_count": 378,
      "outputs": [
        {
          "output_type": "stream",
          "name": "stdout",
          "text": [
            "[[ 3  2  2]\n",
            " [-1  0  1]\n",
            " [-2  2  4]]\n"
          ]
        }
      ]
    },
    {
      "cell_type": "code",
      "source": [
        "x = np.array([1,2,3])\n",
        "print(C@x)"
      ],
      "metadata": {
        "colab": {
          "base_uri": "https://localhost:8080/"
        },
        "id": "lYvLWOBzYr5z",
        "outputId": "84de4199-7eb2-41ec-d407-9a255b293fcc"
      },
      "execution_count": 379,
      "outputs": [
        {
          "output_type": "stream",
          "name": "stdout",
          "text": [
            "[-1  4]\n"
          ]
        }
      ]
    },
    {
      "cell_type": "markdown",
      "metadata": {
        "id": "-xY9crNLMxeS"
      },
      "source": [
        "**Para pensar en grupo**\n",
        "\n",
        "1. ¿Cómo son los `dtype`, `ndim`, `size`, `shape` y `nbytes` obtenidos?\n",
        "2. ¿Qué diferencia hay entre `A[0, 1]` y `A[1, 0]`?\n",
        "3. ¿Cómo obtengo una fila?\n",
        "4. ¿Cómo obtengo una columna?\n",
        "5. Buscar como obtener la matriz transpuesta y verificar\n",
        "6. El producto matricial se realiza con el operador `@`. Verificar multiplicando `A` y `B`.\n",
        "7. Escribir un vector `x` cualquiera y calcular el producto matricial entre `C` y `x`\n",
        "\n"
      ]
    },
    {
      "cell_type": "code",
      "source": [
        "print(A.dtype)\n",
        "print(A.ndim) # es 2 pq tiene dos dimenciones, filas y columnas pues es una lista de listas\n",
        "print(A.size)\n",
        "print(A.shape)\n",
        "print(A.nbytes)\n",
        "print(A[0])"
      ],
      "metadata": {
        "colab": {
          "base_uri": "https://localhost:8080/"
        },
        "id": "auRh5JRLTzQ5",
        "outputId": "e0c1724b-2fcb-490d-d95f-36f7818a8b3a"
      },
      "execution_count": 368,
      "outputs": [
        {
          "output_type": "stream",
          "name": "stdout",
          "text": [
            "int64\n",
            "2\n",
            "9\n",
            "(3, 3)\n",
            "72\n",
            "[3 2 2]\n"
          ]
        }
      ]
    },
    {
      "cell_type": "code",
      "source": [
        "# columna\n",
        "def columnaN(matriz:[int],n:int):\n",
        "  c = []\n",
        "  for i in range(len(matriz)):\n",
        "    c.append(matriz[i][n])\n",
        "  return c\n",
        "\n",
        "print(columnaN(A,1))"
      ],
      "metadata": {
        "colab": {
          "base_uri": "https://localhost:8080/"
        },
        "id": "X351i1UVVp2W",
        "outputId": "a7f673fa-3d20-42f5-e43f-e99f82bb4ebc"
      },
      "execution_count": 375,
      "outputs": [
        {
          "output_type": "stream",
          "name": "stdout",
          "text": [
            "[np.int64(2), np.int64(0), np.int64(2)]\n"
          ]
        }
      ]
    },
    {
      "cell_type": "code",
      "source": [
        "# traspuesta\n",
        "def traspuesta(matriz):\n",
        "  res = []\n",
        "  t = []\n",
        "  n=0\n",
        "  while n<len(matriz):\n",
        "    for i in range(len(matriz)):\n",
        "      t.append(matriz[i][n])\n",
        "    res.append(t)\n",
        "    t=[]\n",
        "    n+=1\n",
        "  return res\n",
        "\n",
        "print(traspuesta(A))"
      ],
      "metadata": {
        "colab": {
          "base_uri": "https://localhost:8080/"
        },
        "id": "uSrZU_p4W3wl",
        "outputId": "ed868ae1-aa27-40bb-a391-e175502ae799"
      },
      "execution_count": 377,
      "outputs": [
        {
          "output_type": "stream",
          "name": "stdout",
          "text": [
            "[[np.int64(3), np.int64(-1), np.int64(-2)], [np.int64(2), np.int64(0), np.int64(2)], [np.int64(2), np.int64(1), np.int64(4)]]\n"
          ]
        }
      ]
    },
    {
      "cell_type": "markdown",
      "metadata": {
        "id": "tBiAZIuhMxeT"
      },
      "source": [
        "*Para leer en casa*: un concepto central de numpy se denomina **Array Broadcasting**. ¿De qué se trata?"
      ]
    },
    {
      "cell_type": "code",
      "source": [
        "A = np.array([[1, 2, 3], [4, 5, 6]]) #(2,3)\n",
        "B = np.array([10, 20, 30]) #(3,)\n",
        "A + B\n",
        "# Aquí, B tiene una sola dimensión, pero tiene el mismo número de elementos que las columnas de A.\n",
        "# NumPy realiza un broadcasting para que B sea tratado como si tuviera la forma (2, 3), repitiendo sus valores en cada fila de A\n",
        "# En este caso, B es \"extendido\" o \"broadcasted\" a una forma de (2, 3) para coincidir con la forma de A, permitiendo realizar la operación de suma.\n"
      ],
      "metadata": {
        "colab": {
          "base_uri": "https://localhost:8080/"
        },
        "id": "v2WV9MZ4ZdwB",
        "outputId": "0ddbdf9e-d651-4363-c65a-f7d3d9b2f1be"
      },
      "execution_count": 381,
      "outputs": [
        {
          "output_type": "execute_result",
          "data": {
            "text/plain": [
              "array([[11, 22, 33],\n",
              "       [14, 25, 36]])"
            ]
          },
          "metadata": {},
          "execution_count": 381
        }
      ]
    }
  ],
  "metadata": {
    "kernelspec": {
      "display_name": "sci312",
      "language": "python",
      "name": "python3"
    },
    "language_info": {
      "codemirror_mode": {
        "name": "ipython",
        "version": 3
      },
      "file_extension": ".py",
      "mimetype": "text/x-python",
      "name": "python",
      "nbconvert_exporter": "python",
      "pygments_lexer": "ipython3",
      "version": "3.10.12"
    },
    "colab": {
      "provenance": []
    }
  },
  "nbformat": 4,
  "nbformat_minor": 0
}